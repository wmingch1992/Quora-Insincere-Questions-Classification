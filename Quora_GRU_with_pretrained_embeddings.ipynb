{
 "cells": [
  {
   "cell_type": "code",
   "execution_count": 1,
   "id": "31b82cbd",
   "metadata": {
    "_cell_guid": "b1076dfc-b9ad-4769-8c92-a6c4dae69d19",
    "_uuid": "8f2839f25d086af736a60e9eeb907d3b93b6e0e5",
    "execution": {
     "iopub.execute_input": "2021-11-14T00:17:45.309122Z",
     "iopub.status.busy": "2021-11-14T00:17:45.307626Z",
     "iopub.status.idle": "2021-11-14T00:17:45.320097Z",
     "shell.execute_reply": "2021-11-14T00:17:45.319570Z",
     "shell.execute_reply.started": "2021-11-13T23:26:40.848513Z"
    },
    "papermill": {
     "duration": 0.032613,
     "end_time": "2021-11-14T00:17:45.320226",
     "exception": false,
     "start_time": "2021-11-14T00:17:45.287613",
     "status": "completed"
    },
    "tags": []
   },
   "outputs": [
    {
     "name": "stdout",
     "output_type": "stream",
     "text": [
      "/kaggle/input/quora-insincere-questions-classification/sample_submission.csv\n",
      "/kaggle/input/quora-insincere-questions-classification/embeddings.zip\n",
      "/kaggle/input/quora-insincere-questions-classification/train.csv\n",
      "/kaggle/input/quora-insincere-questions-classification/test.csv\n"
     ]
    }
   ],
   "source": [
    "# This Python 3 environment comes with many helpful analytics libraries installed\n",
    "# It is defined by the kaggle/python Docker image: https://github.com/kaggle/docker-python\n",
    "# For example, here's several helpful packages to load\n",
    "\n",
    "import numpy as np # linear algebra\n",
    "import pandas as pd # data processing, CSV file I/O (e.g. pd.read_csv)\n",
    "\n",
    "# Input data files are available in the read-only \"../input/\" directory\n",
    "# For example, running this (by clicking run or pressing Shift+Enter) will list all files under the input directory\n",
    "\n",
    "import os\n",
    "for dirname, _, filenames in os.walk('/kaggle/input'):\n",
    "    for filename in filenames:\n",
    "        print(os.path.join(dirname, filename))\n",
    "\n",
    "# You can write up to 20GB to the current directory (/kaggle/working/) that gets preserved as output when you create a version using \"Save & Run All\" \n",
    "# You can also write temporary files to /kaggle/temp/, but they won't be saved outside of the current session"
   ]
  },
  {
   "cell_type": "code",
   "execution_count": 2,
   "id": "1cded64d",
   "metadata": {
    "execution": {
     "iopub.execute_input": "2021-11-14T00:17:45.353391Z",
     "iopub.status.busy": "2021-11-14T00:17:45.351175Z",
     "iopub.status.idle": "2021-11-14T00:21:15.827173Z",
     "shell.execute_reply": "2021-11-14T00:21:15.826692Z",
     "shell.execute_reply.started": "2021-11-13T23:31:01.201148Z"
    },
    "papermill": {
     "duration": 210.491686,
     "end_time": "2021-11-14T00:21:15.827327",
     "exception": false,
     "start_time": "2021-11-14T00:17:45.335641",
     "status": "completed"
    },
    "tags": []
   },
   "outputs": [
    {
     "name": "stdout",
     "output_type": "stream",
     "text": [
      "Archive:  ../input/quora-insincere-questions-classification/embeddings.zip\r\n",
      "   creating: GoogleNews-vectors-negative300/\r\n",
      "   creating: glove.840B.300d/\r\n",
      "   creating: paragram_300_sl999/\r\n",
      "   creating: wiki-news-300d-1M/\r\n",
      "  inflating: glove.840B.300d/glove.840B.300d.txt  \r\n",
      "  inflating: GoogleNews-vectors-negative300/GoogleNews-vectors-negative300.bin  \r\n",
      "  inflating: wiki-news-300d-1M/wiki-news-300d-1M.vec  \r\n",
      "  inflating: paragram_300_sl999/README.txt  \r\n",
      "  inflating: paragram_300_sl999/paragram_300_sl999.txt  \r\n"
     ]
    }
   ],
   "source": [
    "!unzip ../input/quora-insincere-questions-classification/embeddings.zip"
   ]
  },
  {
   "cell_type": "code",
   "execution_count": 3,
   "id": "03c2c06b",
   "metadata": {
    "execution": {
     "iopub.execute_input": "2021-11-14T00:21:18.913859Z",
     "iopub.status.busy": "2021-11-14T00:21:18.913018Z",
     "iopub.status.idle": "2021-11-14T00:21:24.611088Z",
     "shell.execute_reply": "2021-11-14T00:21:24.610149Z",
     "shell.execute_reply.started": "2021-11-13T23:28:33.641970Z"
    },
    "papermill": {
     "duration": 8.167196,
     "end_time": "2021-11-14T00:21:24.611226",
     "exception": false,
     "start_time": "2021-11-14T00:21:16.444030",
     "status": "completed"
    },
    "tags": []
   },
   "outputs": [],
   "source": [
    "import os\n",
    "import time\n",
    "import numpy as np # linear algebra\n",
    "import pandas as pd # data processing, CSV file I/O (e.g. pd.read_csv)\n",
    "from tqdm import tqdm\n",
    "import math\n",
    "from sklearn.model_selection import train_test_split\n",
    "from sklearn import metrics\n",
    "\n",
    "from keras.preprocessing.text import Tokenizer\n",
    "from keras.preprocessing.sequence import pad_sequences\n",
    "from keras.layers import Dense, Input, LSTM, Embedding, Dropout, Activation, CuDNNGRU, Conv1D\n",
    "from keras.layers import Bidirectional, GlobalMaxPool1D\n",
    "from keras.models import Model\n",
    "from keras import initializers, regularizers, constraints, optimizers, layers"
   ]
  },
  {
   "cell_type": "code",
   "execution_count": 4,
   "id": "f8ff4771",
   "metadata": {
    "execution": {
     "iopub.execute_input": "2021-11-14T00:21:29.065764Z",
     "iopub.status.busy": "2021-11-14T00:21:29.064801Z",
     "iopub.status.idle": "2021-11-14T00:21:34.517439Z",
     "shell.execute_reply": "2021-11-14T00:21:34.518034Z",
     "shell.execute_reply.started": "2021-11-13T23:28:38.371801Z"
    },
    "papermill": {
     "duration": 7.594679,
     "end_time": "2021-11-14T00:21:34.518247",
     "exception": false,
     "start_time": "2021-11-14T00:21:26.923568",
     "status": "completed"
    },
    "tags": []
   },
   "outputs": [
    {
     "name": "stdout",
     "output_type": "stream",
     "text": [
      "Train shape :  (1306122, 3)\n",
      "Test shape :  (375806, 2)\n"
     ]
    }
   ],
   "source": [
    "dir_file = '../input/quora-insincere-questions-classification/'\n",
    "train_df = pd.read_csv(dir_file + \"train.csv\")\n",
    "test_df = pd.read_csv(dir_file + \"test.csv\")\n",
    "print(\"Train shape : \",train_df.shape)\n",
    "print(\"Test shape : \",test_df.shape)"
   ]
  },
  {
   "cell_type": "code",
   "execution_count": 5,
   "id": "2d4743d3",
   "metadata": {
    "execution": {
     "iopub.execute_input": "2021-11-14T00:21:37.124736Z",
     "iopub.status.busy": "2021-11-14T00:21:37.123865Z",
     "iopub.status.idle": "2021-11-14T00:21:37.136366Z",
     "shell.execute_reply": "2021-11-14T00:21:37.136791Z",
     "shell.execute_reply.started": "2021-11-13T23:28:43.409219Z"
    },
    "papermill": {
     "duration": 2.602318,
     "end_time": "2021-11-14T00:21:37.136926",
     "exception": false,
     "start_time": "2021-11-14T00:21:34.534608",
     "status": "completed"
    },
    "tags": []
   },
   "outputs": [
    {
     "data": {
      "text/html": [
       "<div>\n",
       "<style scoped>\n",
       "    .dataframe tbody tr th:only-of-type {\n",
       "        vertical-align: middle;\n",
       "    }\n",
       "\n",
       "    .dataframe tbody tr th {\n",
       "        vertical-align: top;\n",
       "    }\n",
       "\n",
       "    .dataframe thead th {\n",
       "        text-align: right;\n",
       "    }\n",
       "</style>\n",
       "<table border=\"1\" class=\"dataframe\">\n",
       "  <thead>\n",
       "    <tr style=\"text-align: right;\">\n",
       "      <th></th>\n",
       "      <th>qid</th>\n",
       "      <th>question_text</th>\n",
       "      <th>target</th>\n",
       "    </tr>\n",
       "  </thead>\n",
       "  <tbody>\n",
       "    <tr>\n",
       "      <th>0</th>\n",
       "      <td>00002165364db923c7e6</td>\n",
       "      <td>How did Quebec nationalists see their province...</td>\n",
       "      <td>0</td>\n",
       "    </tr>\n",
       "    <tr>\n",
       "      <th>1</th>\n",
       "      <td>000032939017120e6e44</td>\n",
       "      <td>Do you have an adopted dog, how would you enco...</td>\n",
       "      <td>0</td>\n",
       "    </tr>\n",
       "    <tr>\n",
       "      <th>2</th>\n",
       "      <td>0000412ca6e4628ce2cf</td>\n",
       "      <td>Why does velocity affect time? Does velocity a...</td>\n",
       "      <td>0</td>\n",
       "    </tr>\n",
       "    <tr>\n",
       "      <th>3</th>\n",
       "      <td>000042bf85aa498cd78e</td>\n",
       "      <td>How did Otto von Guericke used the Magdeburg h...</td>\n",
       "      <td>0</td>\n",
       "    </tr>\n",
       "    <tr>\n",
       "      <th>4</th>\n",
       "      <td>0000455dfa3e01eae3af</td>\n",
       "      <td>Can I convert montra helicon D to a mountain b...</td>\n",
       "      <td>0</td>\n",
       "    </tr>\n",
       "  </tbody>\n",
       "</table>\n",
       "</div>"
      ],
      "text/plain": [
       "                    qid                                      question_text  \\\n",
       "0  00002165364db923c7e6  How did Quebec nationalists see their province...   \n",
       "1  000032939017120e6e44  Do you have an adopted dog, how would you enco...   \n",
       "2  0000412ca6e4628ce2cf  Why does velocity affect time? Does velocity a...   \n",
       "3  000042bf85aa498cd78e  How did Otto von Guericke used the Magdeburg h...   \n",
       "4  0000455dfa3e01eae3af  Can I convert montra helicon D to a mountain b...   \n",
       "\n",
       "   target  \n",
       "0       0  \n",
       "1       0  \n",
       "2       0  \n",
       "3       0  \n",
       "4       0  "
      ]
     },
     "execution_count": 5,
     "metadata": {},
     "output_type": "execute_result"
    }
   ],
   "source": [
    "train_df.head()"
   ]
  },
  {
   "cell_type": "code",
   "execution_count": 6,
   "id": "3d946845",
   "metadata": {
    "execution": {
     "iopub.execute_input": "2021-11-14T00:21:37.175051Z",
     "iopub.status.busy": "2021-11-14T00:21:37.174154Z",
     "iopub.status.idle": "2021-11-14T00:21:37.700507Z",
     "shell.execute_reply": "2021-11-14T00:21:37.699980Z",
     "shell.execute_reply.started": "2021-11-13T23:28:51.901024Z"
    },
    "papermill": {
     "duration": 0.548253,
     "end_time": "2021-11-14T00:21:37.700633",
     "exception": false,
     "start_time": "2021-11-14T00:21:37.152380",
     "status": "completed"
    },
    "tags": []
   },
   "outputs": [],
   "source": [
    "train_df, val_df = train_test_split(train_df, test_size=0.1, random_state=2018)\n",
    "\n",
    "embed_size = 300 #how big is each word vector\n",
    "max_features = 50000 # how many unique words to use (i.e num rows in embedding vector)\n",
    "maxlen = 100 # max number of words in a question to use\n",
    "\n",
    "## Question text\n",
    "train_X = train_df['question_text'].values\n",
    "val_X = val_df['question_text'].values\n",
    "test_X = test_df['question_text'].values\n",
    "\n",
    "## Get the target values\n",
    "train_y = train_df['target']\n",
    "val_y = val_df['target']"
   ]
  },
  {
   "cell_type": "code",
   "execution_count": 7,
   "id": "ffe92424",
   "metadata": {
    "execution": {
     "iopub.execute_input": "2021-11-14T00:21:37.933763Z",
     "iopub.status.busy": "2021-11-14T00:21:37.927474Z",
     "iopub.status.idle": "2021-11-14T00:21:59.947339Z",
     "shell.execute_reply": "2021-11-14T00:21:59.947809Z",
     "shell.execute_reply.started": "2021-11-13T23:29:04.807911Z"
    },
    "papermill": {
     "duration": 22.231709,
     "end_time": "2021-11-14T00:21:59.947973",
     "exception": false,
     "start_time": "2021-11-14T00:21:37.716264",
     "status": "completed"
    },
    "tags": []
   },
   "outputs": [
    {
     "name": "stdout",
     "output_type": "stream",
     "text": [
      "CPU times: user 21.4 s, sys: 209 ms, total: 21.6 s\n",
      "Wall time: 22.1 s\n"
     ]
    }
   ],
   "source": [
    "%%time\n",
    "\n",
    "## Tokenize \n",
    "tokenizer = Tokenizer(num_words=max_features)\n",
    "tokenizer.fit_on_texts(train_X)"
   ]
  },
  {
   "cell_type": "code",
   "execution_count": 8,
   "id": "733aca3a",
   "metadata": {
    "execution": {
     "iopub.execute_input": "2021-11-14T00:22:00.003457Z",
     "iopub.status.busy": "2021-11-14T00:21:59.981652Z",
     "iopub.status.idle": "2021-11-14T00:22:27.496610Z",
     "shell.execute_reply": "2021-11-14T00:22:27.495760Z",
     "shell.execute_reply.started": "2021-11-13T23:29:25.577654Z"
    },
    "papermill": {
     "duration": 27.532877,
     "end_time": "2021-11-14T00:22:27.496819",
     "exception": false,
     "start_time": "2021-11-14T00:21:59.963942",
     "status": "completed"
    },
    "tags": []
   },
   "outputs": [
    {
     "name": "stdout",
     "output_type": "stream",
     "text": [
      "CPU times: user 27.2 s, sys: 236 ms, total: 27.4 s\n",
      "Wall time: 27.5 s\n"
     ]
    }
   ],
   "source": [
    "%%time\n",
    "\n",
    "train_X = tokenizer.texts_to_sequences(train_X)\n",
    "val_X = tokenizer.texts_to_sequences(val_X)\n",
    "test_X = tokenizer.texts_to_sequences(test_X)"
   ]
  },
  {
   "cell_type": "code",
   "execution_count": 9,
   "id": "d0fd1590",
   "metadata": {
    "execution": {
     "iopub.execute_input": "2021-11-14T00:22:27.602420Z",
     "iopub.status.busy": "2021-11-14T00:22:27.566394Z",
     "iopub.status.idle": "2021-11-14T00:22:40.558980Z",
     "shell.execute_reply": "2021-11-14T00:22:40.559573Z",
     "shell.execute_reply.started": "2021-11-13T23:29:52.765230Z"
    },
    "papermill": {
     "duration": 13.037232,
     "end_time": "2021-11-14T00:22:40.559759",
     "exception": false,
     "start_time": "2021-11-14T00:22:27.522527",
     "status": "completed"
    },
    "tags": []
   },
   "outputs": [
    {
     "name": "stdout",
     "output_type": "stream",
     "text": [
      "CPU times: user 12.4 s, sys: 593 ms, total: 13 s\n",
      "Wall time: 13 s\n"
     ]
    }
   ],
   "source": [
    "%%time\n",
    "\n",
    "## Pad the sentences\n",
    "train_X = pad_sequences(train_X, maxlen=maxlen)\n",
    "val_X = pad_sequences(val_X, maxlen=maxlen)\n",
    "test_X = pad_sequences(test_X, maxlen=maxlen)"
   ]
  },
  {
   "cell_type": "markdown",
   "id": "26ecb888",
   "metadata": {
    "papermill": {
     "duration": 0.015925,
     "end_time": "2021-11-14T00:22:40.592884",
     "exception": false,
     "start_time": "2021-11-14T00:22:40.576959",
     "status": "completed"
    },
    "tags": []
   },
   "source": [
    "## glove embeddings"
   ]
  },
  {
   "cell_type": "code",
   "execution_count": 10,
   "id": "b01301a4",
   "metadata": {
    "execution": {
     "iopub.execute_input": "2021-11-14T00:22:40.629814Z",
     "iopub.status.busy": "2021-11-14T00:22:40.629175Z",
     "iopub.status.idle": "2021-11-14T00:26:41.119982Z",
     "shell.execute_reply": "2021-11-14T00:26:41.120435Z",
     "shell.execute_reply.started": "2021-11-13T23:34:36.773335Z"
    },
    "papermill": {
     "duration": 240.511626,
     "end_time": "2021-11-14T00:26:41.120593",
     "exception": false,
     "start_time": "2021-11-14T00:22:40.608967",
     "status": "completed"
    },
    "tags": []
   },
   "outputs": [
    {
     "name": "stdout",
     "output_type": "stream",
     "text": [
      "CPU times: user 3min 53s, sys: 5.05 s, total: 3min 58s\n",
      "Wall time: 4min\n"
     ]
    }
   ],
   "source": [
    "%%time\n",
    "\n",
    "EMBEDDING_FILE = './glove.840B.300d/glove.840B.300d.txt'\n",
    "\n",
    "def get_coefs(word, *arr):\n",
    "    return word, np.asarray(arr, dtype='float32')\n",
    "\n",
    "embeddings_index = dict(get_coefs(*o.split(\" \")) for o in open(EMBEDDING_FILE))"
   ]
  },
  {
   "cell_type": "code",
   "execution_count": 11,
   "id": "2e75a8c8",
   "metadata": {
    "execution": {
     "iopub.execute_input": "2021-11-14T00:26:41.159197Z",
     "iopub.status.busy": "2021-11-14T00:26:41.158569Z",
     "iopub.status.idle": "2021-11-14T00:26:51.061371Z",
     "shell.execute_reply": "2021-11-14T00:26:51.063852Z",
     "shell.execute_reply.started": "2021-11-13T23:44:23.978748Z"
    },
    "papermill": {
     "duration": 9.926672,
     "end_time": "2021-11-14T00:26:51.064207",
     "exception": false,
     "start_time": "2021-11-14T00:26:41.137535",
     "status": "completed"
    },
    "tags": []
   },
   "outputs": [
    {
     "name": "stderr",
     "output_type": "stream",
     "text": [
      "/opt/conda/lib/python3.7/site-packages/IPython/core/magic.py:187: FutureWarning: arrays to stack must be passed as a \"sequence\" type such as list or tuple. Support for non-sequence iterables such as generators is deprecated as of NumPy 1.16 and will raise an error in the future.\n",
      "  call = lambda f, *a, **k: f(*a, **k)\n"
     ]
    },
    {
     "name": "stdout",
     "output_type": "stream",
     "text": [
      "(2196016, 300)\n",
      "-0.005838499\n",
      "0.48782197\n",
      "300\n",
      "CPU times: user 5.45 s, sys: 4.14 s, total: 9.59 s\n",
      "Wall time: 9.9 s\n"
     ]
    }
   ],
   "source": [
    "%%time\n",
    "\n",
    "all_embs = np.stack(embeddings_index.values())\n",
    "print(all_embs.shape)\n",
    "emb_mean, emb_std = all_embs.mean(), all_embs.std() #cal mean and std over flattened array\n",
    "embed_size = all_embs.shape[1]\n",
    "print(emb_mean)\n",
    "print(emb_std)\n",
    "print(embed_size)"
   ]
  },
  {
   "cell_type": "code",
   "execution_count": 12,
   "id": "45117666",
   "metadata": {
    "execution": {
     "iopub.execute_input": "2021-11-14T00:26:51.137127Z",
     "iopub.status.busy": "2021-11-14T00:26:51.135598Z",
     "iopub.status.idle": "2021-11-14T00:26:51.139298Z",
     "shell.execute_reply": "2021-11-14T00:26:51.138693Z",
     "shell.execute_reply.started": "2021-11-13T23:51:45.841922Z"
    },
    "papermill": {
     "duration": 0.056352,
     "end_time": "2021-11-14T00:26:51.139459",
     "exception": false,
     "start_time": "2021-11-14T00:26:51.083107",
     "status": "completed"
    },
    "tags": []
   },
   "outputs": [
    {
     "name": "stdout",
     "output_type": "stream",
     "text": [
      "209286\n",
      "50000\n"
     ]
    }
   ],
   "source": [
    "word_index = tokenizer.word_index\n",
    "print(len(word_index))\n",
    "nb_words = min(max_features, len(word_index))\n",
    "print(nb_words)"
   ]
  },
  {
   "cell_type": "code",
   "execution_count": 13,
   "id": "f59a2cad",
   "metadata": {
    "execution": {
     "iopub.execute_input": "2021-11-14T00:26:51.182164Z",
     "iopub.status.busy": "2021-11-14T00:26:51.181459Z",
     "iopub.status.idle": "2021-11-14T00:26:51.875303Z",
     "shell.execute_reply": "2021-11-14T00:26:51.876185Z",
     "shell.execute_reply.started": "2021-11-13T23:57:03.802098Z"
    },
    "papermill": {
     "duration": 0.71839,
     "end_time": "2021-11-14T00:26:51.876397",
     "exception": false,
     "start_time": "2021-11-14T00:26:51.158007",
     "status": "completed"
    },
    "tags": []
   },
   "outputs": [
    {
     "name": "stdout",
     "output_type": "stream",
     "text": [
      "(50000, 300)\n",
      "CPU times: user 670 ms, sys: 21 ms, total: 691 ms\n",
      "Wall time: 692 ms\n"
     ]
    }
   ],
   "source": [
    "%%time\n",
    "\n",
    "\"\"\"\n",
    "here may be incorrect, go over the word_index.items, including the stopwords, could try later \n",
    "https://stackoverflow.com/questions/46202519/keras-tokenizer-num-words-doesnt-seem-to-work\n",
    "\n",
    "useful link: https://blog.keras.io/using-pre-trained-word-embeddings-in-a-keras-model.html\n",
    "\"\"\"\n",
    "embedding_matrix = np.random.normal(emb_mean, emb_std, (nb_words, embed_size))\n",
    "print(embedding_matrix.shape)\n",
    "for word, i in word_index.items():\n",
    "    if i >= max_features:\n",
    "        continue \n",
    "    embedding_vector = embeddings_index.get(word)\n",
    "    if embedding_vector is not None:\n",
    "        embedding_matrix[i] = embedding_vector"
   ]
  },
  {
   "cell_type": "code",
   "execution_count": 14,
   "id": "7edf0f3e",
   "metadata": {
    "execution": {
     "iopub.execute_input": "2021-11-14T00:26:51.921339Z",
     "iopub.status.busy": "2021-11-14T00:26:51.920669Z",
     "iopub.status.idle": "2021-11-14T00:26:54.530080Z",
     "shell.execute_reply": "2021-11-14T00:26:54.529653Z",
     "shell.execute_reply.started": "2021-11-14T00:05:48.316288Z"
    },
    "papermill": {
     "duration": 2.634366,
     "end_time": "2021-11-14T00:26:54.530203",
     "exception": false,
     "start_time": "2021-11-14T00:26:51.895837",
     "status": "completed"
    },
    "tags": []
   },
   "outputs": [
    {
     "name": "stderr",
     "output_type": "stream",
     "text": [
      "2021-11-14 00:26:52.031397: I tensorflow/stream_executor/cuda/cuda_gpu_executor.cc:937] successful NUMA node read from SysFS had negative value (-1), but there must be at least one NUMA node, so returning NUMA node zero\n",
      "2021-11-14 00:26:52.131381: I tensorflow/stream_executor/cuda/cuda_gpu_executor.cc:937] successful NUMA node read from SysFS had negative value (-1), but there must be at least one NUMA node, so returning NUMA node zero\n",
      "2021-11-14 00:26:52.132060: I tensorflow/stream_executor/cuda/cuda_gpu_executor.cc:937] successful NUMA node read from SysFS had negative value (-1), but there must be at least one NUMA node, so returning NUMA node zero\n",
      "2021-11-14 00:26:52.133737: I tensorflow/core/platform/cpu_feature_guard.cc:142] This TensorFlow binary is optimized with oneAPI Deep Neural Network Library (oneDNN) to use the following CPU instructions in performance-critical operations:  AVX2 AVX512F FMA\n",
      "To enable them in other operations, rebuild TensorFlow with the appropriate compiler flags.\n",
      "2021-11-14 00:26:52.134189: I tensorflow/stream_executor/cuda/cuda_gpu_executor.cc:937] successful NUMA node read from SysFS had negative value (-1), but there must be at least one NUMA node, so returning NUMA node zero\n",
      "2021-11-14 00:26:52.135095: I tensorflow/stream_executor/cuda/cuda_gpu_executor.cc:937] successful NUMA node read from SysFS had negative value (-1), but there must be at least one NUMA node, so returning NUMA node zero\n",
      "2021-11-14 00:26:52.135952: I tensorflow/stream_executor/cuda/cuda_gpu_executor.cc:937] successful NUMA node read from SysFS had negative value (-1), but there must be at least one NUMA node, so returning NUMA node zero\n",
      "2021-11-14 00:26:53.918112: I tensorflow/stream_executor/cuda/cuda_gpu_executor.cc:937] successful NUMA node read from SysFS had negative value (-1), but there must be at least one NUMA node, so returning NUMA node zero\n",
      "2021-11-14 00:26:53.918921: I tensorflow/stream_executor/cuda/cuda_gpu_executor.cc:937] successful NUMA node read from SysFS had negative value (-1), but there must be at least one NUMA node, so returning NUMA node zero\n",
      "2021-11-14 00:26:53.919610: I tensorflow/stream_executor/cuda/cuda_gpu_executor.cc:937] successful NUMA node read from SysFS had negative value (-1), but there must be at least one NUMA node, so returning NUMA node zero\n",
      "2021-11-14 00:26:53.921188: I tensorflow/core/common_runtime/gpu/gpu_device.cc:1510] Created device /job:localhost/replica:0/task:0/device:GPU:0 with 15403 MB memory:  -> device: 0, name: Tesla P100-PCIE-16GB, pci bus id: 0000:00:04.0, compute capability: 6.0\n"
     ]
    },
    {
     "name": "stdout",
     "output_type": "stream",
     "text": [
      "Model: \"model\"\n",
      "_________________________________________________________________\n",
      "Layer (type)                 Output Shape              Param #   \n",
      "=================================================================\n",
      "input_1 (InputLayer)         [(None, 100)]             0         \n",
      "_________________________________________________________________\n",
      "embedding (Embedding)        (None, 100, 300)          15000000  \n",
      "_________________________________________________________________\n",
      "bidirectional (Bidirectional (None, 100, 128)          140544    \n",
      "_________________________________________________________________\n",
      "global_max_pooling1d (Global (None, 128)               0         \n",
      "_________________________________________________________________\n",
      "dense (Dense)                (None, 16)                2064      \n",
      "_________________________________________________________________\n",
      "dropout (Dropout)            (None, 16)                0         \n",
      "_________________________________________________________________\n",
      "dense_1 (Dense)              (None, 1)                 17        \n",
      "=================================================================\n",
      "Total params: 15,142,625\n",
      "Trainable params: 142,625\n",
      "Non-trainable params: 15,000,000\n",
      "_________________________________________________________________\n",
      "None\n"
     ]
    }
   ],
   "source": [
    "\n",
    "inp = Input(shape=(maxlen,))\n",
    "x = Embedding(max_features, embed_size, weights=[embedding_matrix], trainable=False)(inp)\n",
    "x = Bidirectional(CuDNNGRU(64, return_sequences=True))(x)\n",
    "x = GlobalMaxPool1D()(x)\n",
    "x = Dense(16, activation=\"relu\")(x)\n",
    "x = Dropout(0.1)(x)\n",
    "x = Dense(1, activation='sigmoid')(x)\n",
    "\n",
    "model = Model(inputs=inp, outputs=x)\n",
    "model.compile(loss='binary_crossentropy', optimizer='adam', metrics=['accuracy'])\n",
    "\n",
    "print(model.summary())\n"
   ]
  },
  {
   "cell_type": "code",
   "execution_count": 15,
   "id": "8918c328",
   "metadata": {
    "execution": {
     "iopub.execute_input": "2021-11-14T00:26:54.572797Z",
     "iopub.status.busy": "2021-11-14T00:26:54.572026Z",
     "iopub.status.idle": "2021-11-14T00:31:18.236881Z",
     "shell.execute_reply": "2021-11-14T00:31:18.235970Z",
     "shell.execute_reply.started": "2021-11-14T00:06:27.011724Z"
    },
    "papermill": {
     "duration": 263.688168,
     "end_time": "2021-11-14T00:31:18.237049",
     "exception": false,
     "start_time": "2021-11-14T00:26:54.548881",
     "status": "completed"
    },
    "tags": []
   },
   "outputs": [
    {
     "name": "stderr",
     "output_type": "stream",
     "text": [
      "2021-11-14 00:26:54.572908: W tensorflow/core/framework/cpu_allocator_impl.cc:80] Allocation of 470203600 exceeds 10% of free system memory.\n",
      "2021-11-14 00:26:55.013088: I tensorflow/compiler/mlir/mlir_graph_optimization_pass.cc:185] None of the MLIR Optimization Passes are enabled (registered 2)\n"
     ]
    },
    {
     "name": "stdout",
     "output_type": "stream",
     "text": [
      "Epoch 1/4\n"
     ]
    },
    {
     "name": "stderr",
     "output_type": "stream",
     "text": [
      "2021-11-14 00:26:57.072895: I tensorflow/stream_executor/cuda/cuda_dnn.cc:369] Loaded cuDNN version 8005\n"
     ]
    },
    {
     "name": "stdout",
     "output_type": "stream",
     "text": [
      "2296/2296 [==============================] - 64s 26ms/step - loss: 0.1218 - accuracy: 0.9528 - val_loss: 0.1070 - val_accuracy: 0.9577\n",
      "Epoch 2/4\n",
      "2296/2296 [==============================] - 60s 26ms/step - loss: 0.1066 - accuracy: 0.9587 - val_loss: 0.1022 - val_accuracy: 0.9596\n",
      "Epoch 3/4\n",
      "2296/2296 [==============================] - 61s 26ms/step - loss: 0.1008 - accuracy: 0.9607 - val_loss: 0.1018 - val_accuracy: 0.9600\n",
      "Epoch 4/4\n",
      "2296/2296 [==============================] - 60s 26ms/step - loss: 0.0963 - accuracy: 0.9623 - val_loss: 0.1024 - val_accuracy: 0.9580\n",
      "CPU times: user 3min 25s, sys: 7.65 s, total: 3min 32s\n",
      "Wall time: 4min 23s\n"
     ]
    },
    {
     "data": {
      "text/plain": [
       "<keras.callbacks.History at 0x7f3870004a10>"
      ]
     },
     "execution_count": 15,
     "metadata": {},
     "output_type": "execute_result"
    }
   ],
   "source": [
    "%%time \n",
    "\n",
    "model.fit(train_X, train_y, batch_size=512, epochs=4, validation_data=(val_X, val_y))"
   ]
  },
  {
   "cell_type": "code",
   "execution_count": 16,
   "id": "dd4bf911",
   "metadata": {
    "execution": {
     "iopub.execute_input": "2021-11-14T00:31:20.225682Z",
     "iopub.status.busy": "2021-11-14T00:31:20.224745Z",
     "iopub.status.idle": "2021-11-14T00:31:23.062338Z",
     "shell.execute_reply": "2021-11-14T00:31:23.062930Z",
     "shell.execute_reply.started": "2021-11-14T00:08:33.246437Z"
    },
    "papermill": {
     "duration": 3.830697,
     "end_time": "2021-11-14T00:31:23.063120",
     "exception": false,
     "start_time": "2021-11-14T00:31:19.232423",
     "status": "completed"
    },
    "tags": []
   },
   "outputs": [
    {
     "name": "stdout",
     "output_type": "stream",
     "text": [
      "128/128 [==============================] - 2s 15ms/step\n",
      "CPU times: user 1.46 s, sys: 76.2 ms, total: 1.54 s\n",
      "Wall time: 2.83 s\n"
     ]
    }
   ],
   "source": [
    "%%time\n",
    "pred_noemb_val_y = model.predict(val_X, batch_size=1024, verbose=1)"
   ]
  },
  {
   "cell_type": "code",
   "execution_count": 17,
   "id": "732e4eed",
   "metadata": {
    "execution": {
     "iopub.execute_input": "2021-11-14T00:31:25.555827Z",
     "iopub.status.busy": "2021-11-14T00:31:25.554862Z",
     "iopub.status.idle": "2021-11-14T00:31:26.879491Z",
     "shell.execute_reply": "2021-11-14T00:31:26.880370Z",
     "shell.execute_reply.started": "2021-11-14T00:15:48.552131Z"
    },
    "papermill": {
     "duration": 2.495878,
     "end_time": "2021-11-14T00:31:26.880560",
     "exception": false,
     "start_time": "2021-11-14T00:31:24.384682",
     "status": "completed"
    },
    "tags": []
   },
   "outputs": [
    {
     "name": "stdout",
     "output_type": "stream",
     "text": [
      "F1 score at threshold 0.1 is 0.577059240028322\n",
      "F1 score at threshold 0.11 is 0.5856109324758842\n",
      "F1 score at threshold 0.12 is 0.593370528388579\n",
      "F1 score at threshold 0.13 is 0.6006763244687513\n",
      "F1 score at threshold 0.14 is 0.6076701170880705\n",
      "F1 score at threshold 0.15 is 0.6144500452371721\n",
      "F1 score at threshold 0.16 is 0.6196013289036545\n",
      "F1 score at threshold 0.17 is 0.6248116969428446\n",
      "F1 score at threshold 0.18 is 0.6285252380097\n",
      "F1 score at threshold 0.19 is 0.6329044869754967\n",
      "F1 score at threshold 0.2 is 0.6374810109100953\n",
      "F1 score at threshold 0.21 is 0.6409086677218137\n",
      "F1 score at threshold 0.22 is 0.6451369927502119\n",
      "F1 score at threshold 0.23 is 0.6481137909709338\n",
      "F1 score at threshold 0.24 is 0.650463518901004\n",
      "F1 score at threshold 0.25 is 0.6534730306558013\n",
      "F1 score at threshold 0.26 is 0.6565849361327265\n",
      "F1 score at threshold 0.27 is 0.6581129095933675\n",
      "F1 score at threshold 0.28 is 0.6594051526907391\n",
      "F1 score at threshold 0.29 is 0.662086258776329\n",
      "F1 score at threshold 0.3 is 0.6637029552917403\n",
      "F1 score at threshold 0.31 is 0.6643595093897909\n",
      "F1 score at threshold 0.32 is 0.6667008459369392\n",
      "F1 score at threshold 0.33 is 0.6682518350046522\n",
      "F1 score at threshold 0.34 is 0.6692379860314813\n",
      "F1 score at threshold 0.35 is 0.6715374507227333\n",
      "F1 score at threshold 0.36 is 0.6729832733432141\n",
      "F1 score at threshold 0.37 is 0.6745536903810285\n",
      "F1 score at threshold 0.38 is 0.6745657302165988\n",
      "F1 score at threshold 0.39 is 0.6755531570426335\n",
      "F1 score at threshold 0.4 is 0.6770601336302896\n",
      "F1 score at threshold 0.41 is 0.677340036063603\n",
      "F1 score at threshold 0.42 is 0.6779026217228464\n",
      "F1 score at threshold 0.43 is 0.6789418224169484\n",
      "F1 score at threshold 0.44 is 0.6790406440431598\n",
      "F1 score at threshold 0.45 is 0.6786418154175349\n",
      "F1 score at threshold 0.46 is 0.6786827637023182\n",
      "F1 score at threshold 0.47 is 0.6786570743405276\n",
      "F1 score at threshold 0.48 is 0.678976128846707\n",
      "F1 score at threshold 0.49 is 0.6793327154772938\n",
      "F1 score at threshold 0.5 is 0.6797171740781862\n",
      "Best F1 score at threshold 0.5 is 0.6797171740781862\n"
     ]
    }
   ],
   "source": [
    "thresh_best = None\n",
    "f1_score_best = float('-inf')\n",
    "for thresh in np.arange(0.1,0.501,0.01):\n",
    "    thresh = np.round(thresh, 2)\n",
    "    f1_score =  metrics.f1_score(val_y, (pred_noemb_val_y > thresh).astype('int'))\n",
    "    print(\"F1 score at threshold {} is {}\".format(thresh, f1_score))\n",
    "    if f1_score > f1_score_best:\n",
    "        f1_score_best = f1_score\n",
    "        thresh_best = thresh\n",
    "print(\"Best F1 score at threshold {} is {}\".format(thresh_best, f1_score_best))"
   ]
  },
  {
   "cell_type": "code",
   "execution_count": 18,
   "id": "81ac3b44",
   "metadata": {
    "execution": {
     "iopub.execute_input": "2021-11-14T00:31:28.894600Z",
     "iopub.status.busy": "2021-11-14T00:31:28.893987Z",
     "iopub.status.idle": "2021-11-14T00:31:35.455727Z",
     "shell.execute_reply": "2021-11-14T00:31:35.455253Z",
     "shell.execute_reply.started": "2021-11-14T00:16:15.462240Z"
    },
    "papermill": {
     "duration": 7.566149,
     "end_time": "2021-11-14T00:31:35.455855",
     "exception": false,
     "start_time": "2021-11-14T00:31:27.889706",
     "status": "completed"
    },
    "tags": []
   },
   "outputs": [
    {
     "name": "stdout",
     "output_type": "stream",
     "text": [
      "367/367 [==============================] - 5s 15ms/step\n"
     ]
    },
    {
     "data": {
      "text/html": [
       "<div>\n",
       "<style scoped>\n",
       "    .dataframe tbody tr th:only-of-type {\n",
       "        vertical-align: middle;\n",
       "    }\n",
       "\n",
       "    .dataframe tbody tr th {\n",
       "        vertical-align: top;\n",
       "    }\n",
       "\n",
       "    .dataframe thead th {\n",
       "        text-align: right;\n",
       "    }\n",
       "</style>\n",
       "<table border=\"1\" class=\"dataframe\">\n",
       "  <thead>\n",
       "    <tr style=\"text-align: right;\">\n",
       "      <th></th>\n",
       "      <th>qid</th>\n",
       "      <th>prediction</th>\n",
       "    </tr>\n",
       "  </thead>\n",
       "  <tbody>\n",
       "    <tr>\n",
       "      <th>0</th>\n",
       "      <td>0000163e3ea7c7a74cd7</td>\n",
       "      <td>1</td>\n",
       "    </tr>\n",
       "    <tr>\n",
       "      <th>1</th>\n",
       "      <td>00002bd4fb5d505b9161</td>\n",
       "      <td>0</td>\n",
       "    </tr>\n",
       "    <tr>\n",
       "      <th>2</th>\n",
       "      <td>00007756b4a147d2b0b3</td>\n",
       "      <td>0</td>\n",
       "    </tr>\n",
       "    <tr>\n",
       "      <th>3</th>\n",
       "      <td>000086e4b7e1c7146103</td>\n",
       "      <td>0</td>\n",
       "    </tr>\n",
       "    <tr>\n",
       "      <th>4</th>\n",
       "      <td>0000c4c3fbe8785a3090</td>\n",
       "      <td>0</td>\n",
       "    </tr>\n",
       "  </tbody>\n",
       "</table>\n",
       "</div>"
      ],
      "text/plain": [
       "                    qid  prediction\n",
       "0  0000163e3ea7c7a74cd7           1\n",
       "1  00002bd4fb5d505b9161           0\n",
       "2  00007756b4a147d2b0b3           0\n",
       "3  000086e4b7e1c7146103           0\n",
       "4  0000c4c3fbe8785a3090           0"
      ]
     },
     "execution_count": 18,
     "metadata": {},
     "output_type": "execute_result"
    }
   ],
   "source": [
    "pred_noemb_test_y = model.predict(test_X, batch_size=1024, verbose=1)\n",
    "\n",
    "out_df = pd.DataFrame({'qid': test_df['qid'].values})\n",
    "out_df['prediction'] = (pred_noemb_test_y > thresh_best).astype('int')\n",
    "out_df.to_csv('submission.csv',index=False)\n",
    "\n",
    "out_df.head()"
   ]
  }
 ],
 "metadata": {
  "kernelspec": {
   "display_name": "Python 3",
   "language": "python",
   "name": "python3"
  },
  "language_info": {
   "codemirror_mode": {
    "name": "ipython",
    "version": 3
   },
   "file_extension": ".py",
   "mimetype": "text/x-python",
   "name": "python",
   "nbconvert_exporter": "python",
   "pygments_lexer": "ipython3",
   "version": "3.7.10"
  },
  "papermill": {
   "default_parameters": {},
   "duration": 841.911689,
   "end_time": "2021-11-14T00:31:40.074295",
   "environment_variables": {},
   "exception": null,
   "input_path": "__notebook__.ipynb",
   "output_path": "__notebook__.ipynb",
   "parameters": {},
   "start_time": "2021-11-14T00:17:38.162606",
   "version": "2.3.3"
  }
 },
 "nbformat": 4,
 "nbformat_minor": 5
}
